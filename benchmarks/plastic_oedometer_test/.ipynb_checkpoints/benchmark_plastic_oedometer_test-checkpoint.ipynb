{
 "cells": [
  {
   "cell_type": "markdown",
   "id": "33e0d245",
   "metadata": {},
   "source": [
    "# Analytic Solution to the Mohr-Coulomb Oedometer Test \n",
    "### This is from Appendix A in Choi et al. (2013) doi:10.1002/jgrb.50148\n",
    "In the setting depicted by the schematic diagram, the components of the strain increments are given by\n",
    "\n",
    "$$\n",
    "\\Delta \\epsilon_{xx} = \\frac{v_{x} \\Delta t}{L}\n",
    "$$\n",
    "\n",
    "where, $L$ is the length of the side of the square domain, $\\Delta t$ is time increment.\n",
    "\n",
    "$$\n",
    "\\Delta \\epsilon_{yy} = \\Delta \\epsilon_{zz} =0\n",
    "$$\n",
    "\n",
    "The corresponding stress increments in the elastic regime and stresses at any time t before yielding are given as\n",
    "\n",
    "$$\n",
    "\\Delta \\sigma^{el}_{xx} = \\left( \\lambda + 2 \\mu \\right) \\Delta \\epsilon_{xx}\n",
    "$$\n",
    "\n",
    "$$\n",
    "\\Delta \\sigma^{el}_{yy} = \\Delta \\sigma^{el}_{zz} = \\lambda \\Delta \\epsilon_{xx}\n",
    "$$\n",
    "\n",
    "while at the yielding, the stresses deﬁned above make the following two yield functions simultaneously zero:\n",
    "\n",
    "$$\n",
    "f_{s,1} \\left(\\sigma_{xx}, \\sigma_{yy} \\right) = \\sigma_{xx} - \\frac{1+sin \\phi}{1-sin \\phi} \\sigma_{yy} + 2C \\sqrt \\frac{1+sin \\phi}{1-sin \\phi} \\\\  \\ \\ = \\sigma_{xx} - N_{\\phi} \\sigma_{yy} + 2C \\sqrt N_{\\phi}\n",
    "$$\n",
    "\n",
    "$$\n",
    "f_{s,2} \\left(\\sigma_{xx}, \\sigma_{zz} \\right) = \\sigma_{xx} - N_{\\phi} \\sigma_{zz} + 2C \\sqrt N_{\\phi}\n",
    "$$\n",
    "\n",
    "Because of the inherent symmetry (i.e., $\\sigma_{yy} = \\sigma_{zz}$ ), from $f_{s,1}$ or $f_{s,2}$ = 0, for instance, we get the following expression for the time when yielding starts\n",
    "\n",
    "$$\n",
    "t_{yield} = \\frac{CL \\sqrt N_{\\phi}}{\\left( \\left( \\lambda + 2 \\mu \\right) - \\lambda N_{\\phi} \\right) |v_{x}|}\n",
    "$$\n",
    "\n",
    "By the same token, plastic ﬂows need to be computed from two yield potentials,\n",
    "\n",
    "$$\n",
    "g_{s,1} \\left(\\sigma_{xx}, \\sigma_{yy} \\right) = \\sigma_{xx} - \\frac{1+sin \\psi}{1-sin \\psi} \\sigma_{yy} = \\sigma_{xx} - N_{\\psi} \\sigma_{yy}\n",
    "$$\n",
    "\n",
    "$$\n",
    "g_{s,2} \\left(\\sigma_{xx}, \\sigma_{zz} \\right) = \\sigma_{xx} - N_{\\psi} \\sigma_{zz}\n",
    "$$\n",
    "\n",
    "Then, plastic strain increments are given as\n",
    "\n",
    "$$\n",
    "\\Delta \\epsilon^{pl}_{xx} = \\beta_1 \\frac{\\partial g_{s,1}}{\\partial \\sigma_{xx}} + \\beta_2 \\frac{\\partial g_{s,2}}{\\partial \\sigma_{xx}} = \\beta_1 + \\beta_2 = 2 \\beta\n",
    "$$\n",
    "\n",
    "$$\n",
    "\\Delta \\epsilon^{pl}_{yy} = \\beta_1 \\frac{\\partial g_{s,1}}{\\partial \\sigma_{yy}}  = -\\beta_1 N_{\\psi} = -\\beta N_{\\psi}\n",
    "$$\n",
    "\n",
    "where the inherent symmetry is utilized again to identify $\\beta_1$ with $\\beta_2$ and denote them as $\\beta$ . Collecting the previous results, we conclude that the stress increments after yielding are the following:\n",
    "\n",
    "$$\n",
    "\\Delta \\sigma_{xx} = \\left( \\lambda + 2 \\mu \\right) \\Delta \\epsilon^{el}_{xx} + \\lambda \\left( \\Delta \\epsilon^{el}_{yy} + \\Delta \\epsilon^{el}_{zz} \\right)\n",
    "$$\n",
    "\n",
    "$$\n",
    "\\Delta \\sigma_{yy} = \\left( \\lambda + 2 \\mu \\right) \\Delta \\epsilon^{el}_{yy} + \\lambda \\left( \\Delta \\epsilon^{el}_{xx} + \\Delta \\epsilon^{el}_{zz} \\right)\n",
    "$$\n",
    "\n",
    "$$\n",
    "\\Delta \\sigma_{zz} = \\left( \\lambda + 2 \\mu \\right) \\Delta \\epsilon^{el}_{zz} + \\lambda \\left( \\Delta \\epsilon^{el}_{xx} + \\Delta \\epsilon^{el}_{yy} \\right)\n",
    "$$\n",
    "\n",
    "By substituting the expressions for the elastic strain increments into the above equations,\n",
    "\n",
    "$$\n",
    "\\Delta \\epsilon^{el}_{xx} = \\Delta \\epsilon_{xx} - \\Delta \\epsilon^{pl}_{xx} = \\frac{v_{x} \\Delta t}{L} - 2 \\beta\n",
    "$$\n",
    "\n",
    "$$\n",
    "\\Delta \\epsilon^{el}_{yy} = \\Delta \\epsilon_{yy} - \\Delta \\epsilon^{pl}_{yy} = \\beta N_{\\psi}\n",
    "$$\n",
    "\n",
    "$$\n",
    "\\Delta \\epsilon^{el}_{zz} = \\Delta \\epsilon_{zz} - \\Delta \\epsilon^{pl}_{zz} = \\beta N_{\\psi}\n",
    "$$\n",
    "\n",
    "By substituting the expressions for the elastic strain increments into the above equations,\n",
    "\n",
    "$$\n",
    "\\Delta \\sigma_{xx} = \\left( \\lambda + 2 \\mu \\right) \\frac{v_{x} \\Delta t}{L} - 2 \\beta + 2 \\lambda \\beta N_{\\psi}\n",
    "$$\n",
    "\n",
    "$$\n",
    "\\Delta \\sigma_{yy} = \\Delta \\sigma_{zz} = \\left( \\lambda + 2 \\mu \\right) \\beta N_{\\psi} + \\lambda \\left(  \\frac{v_{x} \\Delta t}{L} + \\left( N_{\\psi} - 2 \\right) \\beta  \\right)\n",
    "$$\n",
    "\n",
    "Now, we solve the following incremental consistency condition for $\\beta$ :\n",
    "\n",
    "$$\n",
    "\\Delta f_{s,1} \\left(\\Delta \\sigma_{xx}, \\Delta \\sigma_{yy} \\right) = \\Delta \\sigma_{xx} - N_{\\phi} \\Delta \\sigma_{yy} = 0\n",
    "$$\n",
    "\n",
    "Thus, the closed form expression for $\\beta$ is given as\n",
    "\n",
    "$$\n",
    "\\beta = \\frac{\\left( \\lambda + 2 \\mu \\right) - \\lambda N_{\\phi} }{2 \\left( \\lambda + \\mu \\right) N_{\\phi} N_{\\psi} + 2 \\left( \\lambda + 2 \\mu \\right) - 2 \\left( N_{\\phi} + N_{\\psi} \\right)\\lambda} \\frac{v_{x} \\Delta t}{L}\n",
    "$$"
   ]
  },
  {
   "cell_type": "code",
   "execution_count": 1,
   "id": "f9924947",
   "metadata": {},
   "outputs": [],
   "source": [
    "import numpy\n",
    "import matplotlib.pyplot as plt\n",
    "from math import pi,sin, sqrt"
   ]
  },
  {
   "cell_type": "code",
   "execution_count": 2,
   "id": "e2c758fb",
   "metadata": {},
   "outputs": [],
   "source": [
    "plt.rcParams['font.serif'] = ['Helvetica'] + plt.rcParams['font.serif']\n",
    "plt.rcParams['lines.linewidth'] = 4\n",
    "font1 = {'size': 24, 'color':  'black'}"
   ]
  },
  {
   "cell_type": "code",
   "execution_count": 3,
   "id": "bb48ca03",
   "metadata": {},
   "outputs": [],
   "source": [
    "def analytical(psi):\n",
    "    K = 200e6\n",
    "    mu = 200e6\n",
    "    lame1 = K - 2.0*mu/3.0 \n",
    "    coh = 1e6\n",
    "    phi = 10.0*pi/180\n",
    "    psi = psi*pi/180\n",
    "    ten = coh/numpy.tan(phi)\n",
    "    rho = 1.0\n",
    "    vx = 1e-5\n",
    "    e1 = K+4.0*mu/3.0\n",
    "    e2 = K-2.0*mu/3.0   \n",
    "    sf = sin(phi)\n",
    "    sp = sin(psi)\n",
    "    nf = (1.0+sf)/(1.0-sf)\n",
    "    np = (1.0+sp)/(1.0-sp)\n",
    "    rl = (e1-e2*nf)/((e1+e2)*nf*np-2.0*e2*(nf+np)+2.0*e1)\n",
    "    step1 = 2.0*coh*sqrt(nf)/((e1-e2*nf)*vx) # when yielding occurs\n",
    "    displacement = vx * numpy.array(range(2001), dtype=float)\n",
    "    Sxx = numpy.zeros(2001, dtype=float)\n",
    "    Sxx_y = numpy.zeros(2001, dtype=float)\n",
    "    for i in range(1, 2001):\n",
    "        de = vx / (1 - displacement[i])              \n",
    "        Sxx[i] = Sxx[i-1] + (lame1 + 2*mu)*de\n",
    "        if i < step1:\n",
    "            Sxx_y[i] = Sxx_y[i-1] + e1*de\n",
    "        else:\n",
    "            Sxx_y[i] = Sxx_y[i-1] + de*(e1+2.0*rl*(e2*np-e1))\n",
    "    \n",
    "    return displacement*100, Sxx*1e-6, Sxx_y*1e-6"
   ]
  },
  {
   "cell_type": "code",
   "execution_count": 4,
   "id": "d3b3666f",
   "metadata": {},
   "outputs": [],
   "source": [
    "psi = 0.0\n",
    "displacement, Sxx, Sxx_y_phi0 = analytical(psi)\n",
    "psi = 10.0\n",
    "displacement, Sxx, Sxx_y_phi10 = analytical(psi)"
   ]
  },
  {
   "cell_type": "code",
   "execution_count": 5,
   "id": "cc7c6362",
   "metadata": {},
   "outputs": [],
   "source": [
    "laghos_data1 = numpy.loadtxt(\"solutions_elastic.txt\")\n",
    "laghos_data2 = numpy.loadtxt(\"solutions_plastic_0.txt\")\n",
    "laghos_data3 = numpy.loadtxt(\"solutions_plastic_10.txt\")"
   ]
  },
  {
   "cell_type": "code",
   "execution_count": 6,
   "id": "bf499542",
   "metadata": {},
   "outputs": [
    {
     "data": {
      "image/png": "[encoded data removed]",
      "text/plain": [
       "<Figure size 468x432 with 1 Axes>"
      ]
     },
     "metadata": {
      "needs_background": "light"
     },
     "output_type": "display_data"
    }
   ],
   "source": [
    "f1 = plt.figure(figsize=(6.5, 6))\n",
    "ax1 = plt.subplot(1, 1, 1)\n",
    "ax1.tick_params(direction='in', length=6, width=2, colors='k')\n",
    "plt.setp(ax1.spines.values(), linewidth=3)\n",
    "\n",
    "\n",
    "# Analytic solution\n",
    "plt.plot(displacement, Sxx, linestyle='-', c='k', alpha=1.00)\n",
    "plt.plot(displacement, Sxx_y_phi0, linestyle='-', c='k', alpha=1.00, label='Analytic')\n",
    "plt.plot(displacement, Sxx_y_phi10, linestyle='-', c='k', alpha=1.00)\n",
    "\n",
    "# Numerical solution\n",
    "plt.plot(laghos_data1[:,0], laghos_data1[:,1], 'o', color='orange', markersize=5, label='Elastic')\n",
    "plt.plot(laghos_data2[:,0], laghos_data2[:,1], 'o', color='red', markersize=5, label='Elastoplastic, $\\phi$ = 10, $\\psi$ = 0')\n",
    "plt.plot(laghos_data3[:,0], laghos_data3[:,1], 'o', color='blue', markersize=5, label='Elastoplastic, $\\phi$ = 10, $\\psi$ = 10')\n",
    "\n",
    "plt.xlabel(\"Displacement x $10^{2}$ (meter)\", fontdict=font1)\n",
    "plt.ylabel(\"|$\\sigma_{xx}$| (MPa)\", fontdict=font1)\n",
    "plt.xticks(fontsize=20)\n",
    "plt.yticks(fontsize=20)\n",
    "plt.axis((0, 2, 0, 8))\n",
    "plt.xticks(numpy.arange(min(displacement*1e2), max(displacement*1e2)+0.5, 0.5))\n",
    "plt.tight_layout()\n",
    "plt.legend()\n",
    "plt.show()"
   ]
  },
  {
   "cell_type": "code",
   "execution_count": 7,
   "id": "570d221b",
   "metadata": {},
   "outputs": [
    {
     "ename": "NameError",
     "evalue": "name 'np' is not defined",
     "output_type": "error",
     "traceback": [
      "\u001b[0;31m---------------------------------------------------------------------------\u001b[0m",
      "\u001b[0;31mNameError\u001b[0m                                 Traceback (most recent call last)",
      "Input \u001b[0;32mIn [7]\u001b[0m, in \u001b[0;36m<cell line: 4>\u001b[0;34m()\u001b[0m\n\u001b[1;32m      1\u001b[0m \u001b[38;5;28;01mdef\u001b[39;00m \u001b[38;5;21mcompute_relative_error\u001b[39m(y, analytic, laghos_y, laghos):\n\u001b[1;32m      2\u001b[0m     \u001b[38;5;28;01mreturn\u001b[39;00m np\u001b[38;5;241m.\u001b[39mlinalg\u001b[38;5;241m.\u001b[39mnorm(analytic[\u001b[38;5;241m0\u001b[39m:\u001b[38;5;241m-\u001b[39m\u001b[38;5;241m1\u001b[39m] \u001b[38;5;241m-\u001b[39m np\u001b[38;5;241m.\u001b[39minterp(y[\u001b[38;5;241m0\u001b[39m:\u001b[38;5;241m-\u001b[39m\u001b[38;5;241m1\u001b[39m], laghos_y, laghos))\u001b[38;5;241m/\u001b[39mnp\u001b[38;5;241m.\u001b[39mlinalg\u001b[38;5;241m.\u001b[39mnorm(analytic[\u001b[38;5;241m0\u001b[39m:\u001b[38;5;241m-\u001b[39m\u001b[38;5;241m1\u001b[39m])\n\u001b[0;32m----> 4\u001b[0m error_elastic \u001b[38;5;241m=\u001b[39m \u001b[43mcompute_relative_error\u001b[49m\u001b[43m(\u001b[49m\u001b[43m \u001b[49m\u001b[43mdisplacement\u001b[49m\u001b[43m,\u001b[49m\u001b[43m \u001b[49m\u001b[43mSxx\u001b[49m\u001b[43m,\u001b[49m\u001b[43m \u001b[49m\u001b[43mlaghos_data1\u001b[49m\u001b[43m[\u001b[49m\u001b[43m:\u001b[49m\u001b[43m,\u001b[49m\u001b[38;5;241;43m0\u001b[39;49m\u001b[43m]\u001b[49m\u001b[43m,\u001b[49m\u001b[43m \u001b[49m\u001b[43mlaghos_data1\u001b[49m\u001b[43m[\u001b[49m\u001b[43m:\u001b[49m\u001b[43m,\u001b[49m\u001b[38;5;241;43m1\u001b[39;49m\u001b[43m]\u001b[49m\u001b[43m \u001b[49m\u001b[43m)\u001b[49m\n\u001b[1;32m      5\u001b[0m \u001b[38;5;28mprint\u001b[39m(\u001b[38;5;124m\"\u001b[39m\u001b[38;5;124mRel. error for elastic: \u001b[39m\u001b[38;5;132;01m{0:.3e}\u001b[39;00m\u001b[38;5;124m\"\u001b[39m\u001b[38;5;241m.\u001b[39mformat(error_elastic))\n\u001b[1;32m      7\u001b[0m error_plastic1 \u001b[38;5;241m=\u001b[39m compute_relative_error( displacement, Sxx_y_phi0, laghos_data2[:,\u001b[38;5;241m0\u001b[39m], laghos_data2[:,\u001b[38;5;241m1\u001b[39m] )\n",
      "Input \u001b[0;32mIn [7]\u001b[0m, in \u001b[0;36mcompute_relative_error\u001b[0;34m(y, analytic, laghos_y, laghos)\u001b[0m\n\u001b[1;32m      1\u001b[0m \u001b[38;5;28;01mdef\u001b[39;00m \u001b[38;5;21mcompute_relative_error\u001b[39m(y, analytic, laghos_y, laghos):\n\u001b[0;32m----> 2\u001b[0m     \u001b[38;5;28;01mreturn\u001b[39;00m \u001b[43mnp\u001b[49m\u001b[38;5;241m.\u001b[39mlinalg\u001b[38;5;241m.\u001b[39mnorm(analytic[\u001b[38;5;241m0\u001b[39m:\u001b[38;5;241m-\u001b[39m\u001b[38;5;241m1\u001b[39m] \u001b[38;5;241m-\u001b[39m np\u001b[38;5;241m.\u001b[39minterp(y[\u001b[38;5;241m0\u001b[39m:\u001b[38;5;241m-\u001b[39m\u001b[38;5;241m1\u001b[39m], laghos_y, laghos))\u001b[38;5;241m/\u001b[39mnp\u001b[38;5;241m.\u001b[39mlinalg\u001b[38;5;241m.\u001b[39mnorm(analytic[\u001b[38;5;241m0\u001b[39m:\u001b[38;5;241m-\u001b[39m\u001b[38;5;241m1\u001b[39m])\n",
      "\u001b[0;31mNameError\u001b[0m: name 'np' is not defined"
     ]
    }
   ],
   "source": [
    "def compute_relative_error(y, analytic, laghos_y, laghos):\n",
    "    return np.linalg.norm(analytic[0:-1] - np.interp(y[0:-1], laghos_y, laghos))/np.linalg.norm(analytic[0:-1])\n",
    "\n",
    "error_elastic = compute_relative_error( displacement, Sxx, laghos_data1[:,0], laghos_data1[:,1] )\n",
    "print(\"Rel. error for elastic: {0:.3e}\".format(error_elastic))\n",
    "\n",
    "error_plastic1 = compute_relative_error( displacement, Sxx_y_phi0, laghos_data2[:,0], laghos_data2[:,1] )\n",
    "print(\"Rel. error for error_plastic1: {0:.3e}\".format(error_plastic1))\n",
    "\n",
    "error_plastic2 = compute_relative_error( displacement, Sxx_y_phi10, laghos_data3[:,0], laghos_data3[:,1] )\n",
    "print(\"Rel. error for error_plastic2: {0:.3e}\".format(error_plastic2))"
   ]
  }
 ],
 "metadata": {
  "kernelspec": {
   "display_name": "Python 3 (ipykernel)",
   "language": "python",
   "name": "python3"
  },
  "language_info": {
   "codemirror_mode": {
    "name": "ipython",
    "version": 3
   },
   "file_extension": ".py",
   "mimetype": "text/x-python",
   "name": "python",
   "nbconvert_exporter": "python",
   "pygments_lexer": "ipython3",
   "version": "3.9.12"
  }
 },
 "nbformat": 4,
 "nbformat_minor": 5
}
